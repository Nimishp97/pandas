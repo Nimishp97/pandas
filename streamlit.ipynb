{
  "nbformat": 4,
  "nbformat_minor": 0,
  "metadata": {
    "colab": {
      "name": "streamlit.ipynb",
      "provenance": [],
      "collapsed_sections": [],
      "authorship_tag": "ABX9TyNvWUvO4OJUbVwIlIHxgRap",
      "include_colab_link": true
    },
    "kernelspec": {
      "name": "python3",
      "display_name": "Python 3"
    },
    "language_info": {
      "name": "python"
    }
  },
  "cells": [
    {
      "cell_type": "markdown",
      "metadata": {
        "id": "view-in-github",
        "colab_type": "text"
      },
      "source": [
        "<a href=\"https://colab.research.google.com/github/nimishp97/pandas/blob/main/streamlit.ipynb\" target=\"_parent\"><img src=\"https://colab.research.google.com/assets/colab-badge.svg\" alt=\"Open In Colab\"/></a>"
      ]
    },
    {
      "cell_type": "code",
      "metadata": {
        "id": "TnsgeRs8pqnN"
      },
      "source": [
        "#streamlit = tool for creating web app\n"
      ],
      "execution_count": 1,
      "outputs": []
    },
    {
      "cell_type": "code",
      "metadata": {
        "colab": {
          "base_uri": "https://localhost:8080/"
        },
        "id": "rnFTfArPrEYg",
        "outputId": "380c88de-30c2-4ba2-c062-f6958e3944ed"
      },
      "source": [
        "!pip install streamlit --quiet\n",
        "!pip install pyngrok==4.1.1 --quiet\n",
        "from pyngrok import ngrok"
      ],
      "execution_count": 2,
      "outputs": [
        {
          "output_type": "stream",
          "text": [
            "\u001b[K     |████████████████████████████████| 7.0MB 5.3MB/s \n",
            "\u001b[K     |████████████████████████████████| 81kB 6.9MB/s \n",
            "\u001b[K     |████████████████████████████████| 163kB 49.2MB/s \n",
            "\u001b[K     |████████████████████████████████| 112kB 48.8MB/s \n",
            "\u001b[K     |████████████████████████████████| 4.6MB 31.7MB/s \n",
            "\u001b[K     |████████████████████████████████| 71kB 6.8MB/s \n",
            "\u001b[K     |████████████████████████████████| 122kB 49.3MB/s \n",
            "\u001b[?25h  Building wheel for blinker (setup.py) ... \u001b[?25l\u001b[?25hdone\n",
            "\u001b[31mERROR: google-colab 1.0.0 has requirement ipykernel~=4.10, but you'll have ipykernel 5.5.3 which is incompatible.\u001b[0m\n",
            "  Building wheel for pyngrok (setup.py) ... \u001b[?25l\u001b[?25hdone\n"
          ],
          "name": "stdout"
        }
      ]
    },
    {
      "cell_type": "code",
      "metadata": {
        "colab": {
          "base_uri": "https://localhost:8080/"
        },
        "id": "1gWB9W4Or3dA",
        "outputId": "51244701-80d9-464c-e0ae-dc156ec9e69a"
      },
      "source": [
        "%%writefile app.py\n",
        "import streamlit as st\n",
        "st.title('Basics of Streamlit')\n",
        "st.write('Web Apps')\n",
        "name = st.text_input(\"Enter your Name\")\n",
        "age = st.slider(\"Enter your Age\",0,50)\n",
        "countries = ['AUSTRALIA','NETHERLAND','USA','SAUDI']\n",
        "select = st.selectbox(\"select the country where you want to roam?\",countries)\n",
        "if st.button(\"ENTER\"):\n",
        "  st.write(f'My Name is {name}, My Age is {age}')\n",
        "\n",
        "upload = st.file_uploader(\"upload\")\n",
        "if upload is not none :\n",
        "  st.image(upload)"
      ],
      "execution_count": 12,
      "outputs": [
        {
          "output_type": "stream",
          "text": [
            "Overwriting app.py\n"
          ],
          "name": "stdout"
        }
      ]
    },
    {
      "cell_type": "code",
      "metadata": {
        "colab": {
          "base_uri": "https://localhost:8080/"
        },
        "id": "Ig61UzAJJuB3",
        "outputId": "79540ff7-c129-499a-a2bc-8c44c4d5bce0"
      },
      "source": [
        "%%writefile app.py\n",
        "import streamlit as st\n",
        "st.title('SIMPLE CALCULATOR)\n",
        "st.write('CHOICE')\n",
        "number = st.number_input(\"value of a and b\")\n",
        "a = st.slider(\"enter value\",0,1000)\n",
        "b = st.slider(\"enter value\",0,1000)\n",
        "select = st.selectbox(\"what is your preference?\",(\"ADD\",\"SUB\",\"DIV\",\"PROD\"))\n",
        "if operation == 'ADD':\n",
        "  cal = int(a) + int(b)\n",
        "  elif opertion == 'SUB'\n",
        "  cal = int(a) - int(b)\n",
        "  elif operation == 'DIV'\n",
        "  cal = int(a) / int(b)\n",
        "  elif operation == 'PROD'\n",
        "  cal = int(a) * int(b)\n",
        "if st.button(\"CALCULATE\")\n",
        "  if.sidebar.title(f\"the {select} of {a} and {b} is {calc}\")\n",
        " "
      ],
      "execution_count": 13,
      "outputs": [
        {
          "output_type": "stream",
          "text": [
            "Overwriting app.py\n"
          ],
          "name": "stdout"
        }
      ]
    },
    {
      "cell_type": "code",
      "metadata": {
        "colab": {
          "base_uri": "https://localhost:8080/",
          "height": 52
        },
        "id": "xlrnl30hsKgm",
        "outputId": "7fcd313e-c780-402a-cf30-0c84f26e58a2"
      },
      "source": [
        "!nohup streamlit run app.py &\n",
        "url = ngrok.connect(port = '8501')\n",
        "url"
      ],
      "execution_count": 4,
      "outputs": [
        {
          "output_type": "stream",
          "text": [
            "nohup: appending output to 'nohup.out'\n"
          ],
          "name": "stdout"
        },
        {
          "output_type": "execute_result",
          "data": {
            "application/vnd.google.colaboratory.intrinsic+json": {
              "type": "string"
            },
            "text/plain": [
              "'http://57d6ab377b56.ngrok.io'"
            ]
          },
          "metadata": {
            "tags": []
          },
          "execution_count": 4
        }
      ]
    }
  ]
}